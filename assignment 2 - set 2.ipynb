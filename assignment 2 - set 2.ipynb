{
 "cells": [
  {
   "cell_type": "markdown",
   "id": "1c68771d",
   "metadata": {},
   "source": [
    "4.\tLet X ~ N(100, 202). Find two values, a and b, symmetric about the mean, such that the probability of the random variable taking a value between them is 0.99. "
   ]
  },
  {
   "cell_type": "code",
   "execution_count": 3,
   "id": "ef8f8eaa",
   "metadata": {},
   "outputs": [],
   "source": [
    "import numpy as np\n",
    "from scipy import stats\n",
    "from scipy.stats import norm"
   ]
  },
  {
   "cell_type": "code",
   "execution_count": 4,
   "id": "c31434b2",
   "metadata": {},
   "outputs": [
    {
     "data": {
      "text/plain": [
       "(48.48341392902199, 151.516586070978)"
      ]
     },
     "execution_count": 4,
     "metadata": {},
     "output_type": "execute_result"
    }
   ],
   "source": [
    "stats.norm.interval(0.99,100,20)"
   ]
  },
  {
   "cell_type": "markdown",
   "id": "6529e857",
   "metadata": {},
   "source": [
    "5.\tConsider a company that has two different divisions. The annual profits from the two divisions are independent and have distributions Profit1 ~ N(5, 32) and Profit2 ~ N(7, 42) respectively. Both the profits are in $ Million. Answer the following questions about the total profit of the company in Rupees. Assume that $1 = Rs. 45\n",
    "A.\tSpecify a Rupee range (centered on the mean) such that it contains 95% probability for the annual profit of the company.\n",
    "B.\tSpecify the 5th percentile of profit (in Rupees) for the company\n",
    "C.\tWhich of the two divisions has a larger probability of making a loss in a given year?\n"
   ]
  },
  {
   "cell_type": "code",
   "execution_count": 6,
   "id": "b1bf4dea",
   "metadata": {},
   "outputs": [
    {
     "name": "stdout",
     "output_type": "stream",
     "text": [
      "The mean in million is : 540\n"
     ]
    }
   ],
   "source": [
    "#calculate the mean for the profits\n",
    "mean = 5+7\n",
    "print(\"The mean in million is :\",mean*45)"
   ]
  },
  {
   "cell_type": "code",
   "execution_count": 8,
   "id": "2d031833",
   "metadata": {},
   "outputs": [
    {
     "name": "stdout",
     "output_type": "stream",
     "text": [
      "The Standard deviation in million is : 225.0\n"
     ]
    }
   ],
   "source": [
    "#calculate the Standard deviation.\n",
    "sd = np.sqrt((9)+(16))\n",
    "print('The Standard deviation in million is :', sd*45)"
   ]
  },
  {
   "cell_type": "code",
   "execution_count": 10,
   "id": "12636993",
   "metadata": {},
   "outputs": [
    {
     "name": "stdout",
     "output_type": "stream",
     "text": [
      "The range is (99.00810347848784, 980.9918965215122)\n"
     ]
    }
   ],
   "source": [
    "#A. Specify a Rupee range (centered on the mean) such that it contains 95% probability for the annual profit of the company.\n",
    "a = stats.norm.interval(0.95,540,225)\n",
    "print('The range is', a)"
   ]
  },
  {
   "cell_type": "code",
   "execution_count": 13,
   "id": "34f159d2",
   "metadata": {},
   "outputs": [
    {
     "name": "stdout",
     "output_type": "stream",
     "text": [
      "The 5th percentile in million is: 169.875\n"
     ]
    }
   ],
   "source": [
    "#Specify the 5th percentile of profit (in Rupees) for the company\n",
    "# 5 percentile z score is -1.645, from the z table\n",
    "X = 540-(1.645)*(225)\n",
    "print(\"The 5th percentile in million is:\", X)"
   ]
  },
  {
   "cell_type": "code",
   "execution_count": 22,
   "id": "4c98bcfe",
   "metadata": {},
   "outputs": [
    {
     "name": "stdout",
     "output_type": "stream",
     "text": [
      "The loss percent for division 1 is: 4.7790352272814705\n",
      "the loss percent for division 2 is : 4.005915686381709\n"
     ]
    }
   ],
   "source": [
    "#C. Which of the two divisions has a larger probability of making a loss in a given year?\n",
    "div_1 = stats.norm.cdf(0,5,3)\n",
    "print('The loss percent for division 1 is:',div_1*100)\n",
    "div_2 = stats.norm.cdf(0,7,4)\n",
    "print(\"the loss percent for division 2 is :\",div_2*100)"
   ]
  },
  {
   "cell_type": "code",
   "execution_count": null,
   "id": "eda47f4f",
   "metadata": {},
   "outputs": [],
   "source": [
    "  "
   ]
  }
 ],
 "metadata": {
  "kernelspec": {
   "display_name": "Python 3 (ipykernel)",
   "language": "python",
   "name": "python3"
  },
  "language_info": {
   "codemirror_mode": {
    "name": "ipython",
    "version": 3
   },
   "file_extension": ".py",
   "mimetype": "text/x-python",
   "name": "python",
   "nbconvert_exporter": "python",
   "pygments_lexer": "ipython3",
   "version": "3.11.5"
  }
 },
 "nbformat": 4,
 "nbformat_minor": 5
}
